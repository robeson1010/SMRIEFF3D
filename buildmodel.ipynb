{
 "cells": [
  {
   "cell_type": "code",
   "execution_count": null,
   "id": "different-antibody",
   "metadata": {},
   "outputs": [],
   "source": [
    "%load_ext autoreload\n",
    "%autoreload 2\n",
    "%matplotlib inline"
   ]
  },
  {
   "cell_type": "code",
   "execution_count": null,
   "id": "registered-fossil",
   "metadata": {},
   "outputs": [],
   "source": [
    "import torch\n",
    "import torch.nn as nn\n",
    "from timm.models.vision_transformer import Block\n",
    "from EFF3D.res import resnet10"
   ]
  },
  {
   "cell_type": "code",
   "execution_count": null,
   "id": "thrown-attraction",
   "metadata": {},
   "outputs": [
    {
     "name": "stderr",
     "output_type": "stream",
     "text": [
      "/home/staff/xin/Documents/fastai2/SMRIEFF3D/EFF3D/res.py:174: UserWarning: nn.init.kaiming_normal is now deprecated in favor of nn.init.kaiming_normal_.\n",
      "  m.weight = nn.init.kaiming_normal(m.weight, mode='fan_out')\n"
     ]
    }
   ],
   "source": [
    "encoder=resnet10(shortcut_type='B')\n",
    "encoder=nn.DataParallel(encoder)\n",
    "# encoder=nn.DataParallel(encoder)"
   ]
  },
  {
   "cell_type": "code",
   "execution_count": null,
   "id": "colored-astrology",
   "metadata": {},
   "outputs": [],
   "source": [
    "weight=torch.load('../nonorm/models/resnet_10_23dataset.pth')"
   ]
  },
  {
   "cell_type": "code",
   "execution_count": null,
   "id": "finnish-scale",
   "metadata": {},
   "outputs": [
    {
     "data": {
      "text/plain": [
       "<All keys matched successfully>"
      ]
     },
     "execution_count": null,
     "metadata": {},
     "output_type": "execute_result"
    }
   ],
   "source": [
    "encoder.load_state_dict(weight['state_dict'])"
   ]
  },
  {
   "cell_type": "code",
   "execution_count": null,
   "id": "divine-turner",
   "metadata": {},
   "outputs": [],
   "source": [
    "encoder=encoder.module"
   ]
  },
  {
   "cell_type": "code",
   "execution_count": null,
   "id": "canadian-punch",
   "metadata": {},
   "outputs": [],
   "source": [
    "temp=torch.ones(1,1,224,224,224)"
   ]
  },
  {
   "cell_type": "code",
   "execution_count": null,
   "id": "occupational-aside",
   "metadata": {},
   "outputs": [],
   "source": [
    "x=encoder(temp)"
   ]
  },
  {
   "cell_type": "code",
   "execution_count": null,
   "id": "worthy-senate",
   "metadata": {},
   "outputs": [],
   "source": [
    "x=x.flatten(2).transpose(1, 2)"
   ]
  },
  {
   "cell_type": "code",
   "execution_count": null,
   "id": "elect-permit",
   "metadata": {},
   "outputs": [
    {
     "data": {
      "text/plain": [
       "torch.Size([1, 21952, 512])"
      ]
     },
     "execution_count": null,
     "metadata": {},
     "output_type": "execute_result"
    }
   ],
   "source": [
    "x.shape"
   ]
  },
  {
   "cell_type": "code",
   "execution_count": null,
   "id": "rotary-archives",
   "metadata": {},
   "outputs": [],
   "source": [
    "cls_token = nn.Parameter(torch.zeros(1, 1, 512))"
   ]
  },
  {
   "cell_type": "code",
   "execution_count": null,
   "id": "herbal-guarantee",
   "metadata": {},
   "outputs": [],
   "source": [
    "cls_token = cls_token.expand(x.shape[0], -1, -1) "
   ]
  },
  {
   "cell_type": "code",
   "execution_count": null,
   "id": "broad-client",
   "metadata": {},
   "outputs": [],
   "source": [
    "x = torch.cat((cls_token, x), dim=1)"
   ]
  },
  {
   "cell_type": "code",
   "execution_count": null,
   "id": "parallel-luxury",
   "metadata": {},
   "outputs": [],
   "source": [
    "x=torch.ones(1,61,512)"
   ]
  },
  {
   "cell_type": "code",
   "execution_count": null,
   "id": "rolled-scene",
   "metadata": {},
   "outputs": [],
   "source": [
    "depth=12\n",
    "embed_dim=512"
   ]
  },
  {
   "cell_type": "code",
   "execution_count": null,
   "id": "sharp-algeria",
   "metadata": {},
   "outputs": [],
   "source": [
    "blocks = nn.Sequential(*[\n",
    "            Block(\n",
    "                dim=embed_dim, num_heads=4)\n",
    "            for i in range(depth)])"
   ]
  },
  {
   "cell_type": "code",
   "execution_count": null,
   "id": "patent-worry",
   "metadata": {},
   "outputs": [],
   "source": [
    "x=blocks(x)"
   ]
  },
  {
   "cell_type": "code",
   "execution_count": null,
   "id": "architectural-annotation",
   "metadata": {},
   "outputs": [
    {
     "data": {
      "text/plain": [
       "torch.Size([1, 61, 512])"
      ]
     },
     "execution_count": null,
     "metadata": {},
     "output_type": "execute_result"
    }
   ],
   "source": [
    "x.shape"
   ]
  },
  {
   "cell_type": "code",
   "execution_count": null,
   "id": "affecting-treaty",
   "metadata": {},
   "outputs": [],
   "source": [
    "x.shape"
   ]
  },
  {
   "cell_type": "code",
   "execution_count": null,
   "id": "worth-fellow",
   "metadata": {},
   "outputs": [
    {
     "data": {
      "text/plain": [
       "Block(\n",
       "  (norm1): LayerNorm((512,), eps=1e-05, elementwise_affine=True)\n",
       "  (attn): Attention(\n",
       "    (qkv): Linear(in_features=512, out_features=1536, bias=False)\n",
       "    (attn_drop): Dropout(p=0.0, inplace=False)\n",
       "    (proj): Linear(in_features=512, out_features=512, bias=True)\n",
       "    (proj_drop): Dropout(p=0.0, inplace=False)\n",
       "  )\n",
       "  (drop_path): Identity()\n",
       "  (norm2): LayerNorm((512,), eps=1e-05, elementwise_affine=True)\n",
       "  (mlp): Mlp(\n",
       "    (fc1): Linear(in_features=512, out_features=2048, bias=True)\n",
       "    (act): GELU()\n",
       "    (fc2): Linear(in_features=2048, out_features=512, bias=True)\n",
       "    (drop): Dropout(p=0.0, inplace=False)\n",
       "  )\n",
       ")"
      ]
     },
     "execution_count": null,
     "metadata": {},
     "output_type": "execute_result"
    }
   ],
   "source": [
    "blocks[-1]"
   ]
  },
  {
   "cell_type": "code",
   "execution_count": null,
   "id": "brazilian-messaging",
   "metadata": {},
   "outputs": [],
   "source": []
  }
 ],
 "metadata": {
  "kernelspec": {
   "display_name": "Python [conda env:fastai]",
   "language": "python",
   "name": "conda-env-fastai-py"
  }
 },
 "nbformat": 4,
 "nbformat_minor": 5
}
