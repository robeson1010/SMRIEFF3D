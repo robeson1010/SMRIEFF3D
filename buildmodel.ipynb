{
 "cells": [
  {
   "cell_type": "code",
   "execution_count": null,
   "id": "eastern-store",
   "metadata": {},
   "outputs": [],
   "source": [
    "%load_ext autoreload\n",
    "%autoreload 2\n",
    "%matplotlib inline"
   ]
  },
  {
   "cell_type": "code",
   "execution_count": null,
   "id": "mysterious-wrong",
   "metadata": {},
   "outputs": [],
   "source": [
    "from EFF3D.res import resnet10\n",
    "import torch\n",
    "import torch.nn as nn\n",
    "from timm.models.vision_transformer import Block"
   ]
  },
  {
   "cell_type": "code",
   "execution_count": null,
   "id": "surprising-baking",
   "metadata": {},
   "outputs": [],
   "source": [
    "encoder=resnet10(shortcut_type='B')\n",
    "encoder=nn.DataParallel(encoder)\n",
    "# encoder=nn.DataParallel(encoder)"
   ]
  },
  {
   "cell_type": "code",
   "execution_count": null,
   "id": "enormous-perth",
   "metadata": {},
   "outputs": [],
   "source": [
    "weight=torch.load('../nonorm/models/resnet_10_23dataset.pth')"
   ]
  },
  {
   "cell_type": "code",
   "execution_count": null,
   "id": "deadly-render",
   "metadata": {},
   "outputs": [
    {
     "data": {
      "text/plain": [
       "<All keys matched successfully>"
      ]
     },
     "execution_count": null,
     "metadata": {},
     "output_type": "execute_result"
    }
   ],
   "source": [
    "encoder.load_state_dict(weight['state_dict'])"
   ]
  },
  {
   "cell_type": "code",
   "execution_count": null,
   "id": "vulnerable-routine",
   "metadata": {},
   "outputs": [],
   "source": [
    "encoder=encoder.module"
   ]
  },
  {
   "cell_type": "code",
   "execution_count": null,
   "id": "blocked-salvation",
   "metadata": {},
   "outputs": [],
   "source": [
    "temp=torch.ones(1,1,224,224,224)"
   ]
  },
  {
   "cell_type": "code",
   "execution_count": null,
   "id": "continuous-prospect",
   "metadata": {},
   "outputs": [],
   "source": [
    "x=encoder(temp)"
   ]
  },
  {
   "cell_type": "code",
   "execution_count": null,
   "id": "chemical-tamil",
   "metadata": {},
   "outputs": [],
   "source": [
    "x=x.flatten(2).transpose(1, 2)"
   ]
  },
  {
   "cell_type": "code",
   "execution_count": null,
   "id": "interpreted-strap",
   "metadata": {},
   "outputs": [
    {
     "data": {
      "text/plain": [
       "torch.Size([1, 21952, 512])"
      ]
     },
     "execution_count": null,
     "metadata": {},
     "output_type": "execute_result"
    }
   ],
   "source": [
    "x.shape"
   ]
  },
  {
   "cell_type": "code",
   "execution_count": null,
   "id": "employed-forth",
   "metadata": {},
   "outputs": [],
   "source": [
    "cls_token = nn.Parameter(torch.zeros(1, 1, 512))"
   ]
  },
  {
   "cell_type": "code",
   "execution_count": null,
   "id": "together-exemption",
   "metadata": {},
   "outputs": [],
   "source": [
    "cls_token = cls_token.expand(x.shape[0], -1, -1) "
   ]
  },
  {
   "cell_type": "code",
   "execution_count": null,
   "id": "lonely-rabbit",
   "metadata": {},
   "outputs": [],
   "source": [
    "x = torch.cat((cls_token, x), dim=1)"
   ]
  },
  {
   "cell_type": "code",
   "execution_count": null,
   "id": "alpha-consistency",
   "metadata": {},
   "outputs": [],
   "source": [
    "depth=12\n",
    "embed_dim=512"
   ]
  },
  {
   "cell_type": "code",
   "execution_count": null,
   "id": "several-bedroom",
   "metadata": {},
   "outputs": [],
   "source": [
    "blocks = nn.Sequential(*[\n",
    "            Block(\n",
    "                dim=embed_dim, num_heads=4)\n",
    "            for i in range(depth)])"
   ]
  },
  {
   "cell_type": "code",
   "execution_count": null,
   "id": "hawaiian-algorithm",
   "metadata": {},
   "outputs": [],
   "source": [
    "x=blocks(x)"
   ]
  },
  {
   "cell_type": "code",
   "execution_count": null,
   "id": "higher-adolescent",
   "metadata": {},
   "outputs": [],
   "source": [
    "x.shape"
   ]
  },
  {
   "cell_type": "code",
   "execution_count": null,
   "id": "ideal-forth",
   "metadata": {},
   "outputs": [],
   "source": []
  }
 ],
 "metadata": {
  "kernelspec": {
   "display_name": "Python [conda env:fastai]",
   "language": "python",
   "name": "conda-env-fastai-py"
  }
 },
 "nbformat": 4,
 "nbformat_minor": 5
}
