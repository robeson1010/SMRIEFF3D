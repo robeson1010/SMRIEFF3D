{
 "cells": [
  {
   "cell_type": "code",
   "execution_count": null,
   "id": "fifty-bangladesh",
   "metadata": {},
   "outputs": [],
   "source": [
    "import pandas as pd\n",
    "import scipy.stats as stats\n",
    "from EFF3D.MRI import open_npy\n",
    "import torch\n",
    "import torch.nn as nn\n",
    "import tqdm\n",
    "import numpy as np\n",
    "from fastai.vision.all import *\n",
    "from EFF3D.res import resnet10"
   ]
  },
  {
   "cell_type": "code",
   "execution_count": null,
   "id": "indonesian-correction",
   "metadata": {},
   "outputs": [],
   "source": [
    "df=pd.read_csv('../nonorm/ADNCold.csv')\n",
    "# path=Path('/home/staff/xin/Downloads/newMRI/ADtrain')"
   ]
  },
  {
   "cell_type": "code",
   "execution_count": null,
   "id": "global-statement",
   "metadata": {},
   "outputs": [
    {
     "data": {
      "text/html": [
       "<div>\n",
       "<style scoped>\n",
       "    .dataframe tbody tr th:only-of-type {\n",
       "        vertical-align: middle;\n",
       "    }\n",
       "\n",
       "    .dataframe tbody tr th {\n",
       "        vertical-align: top;\n",
       "    }\n",
       "\n",
       "    .dataframe thead th {\n",
       "        text-align: right;\n",
       "    }\n",
       "</style>\n",
       "<table border=\"1\" class=\"dataframe\">\n",
       "  <thead>\n",
       "    <tr style=\"text-align: right;\">\n",
       "      <th></th>\n",
       "      <th>name</th>\n",
       "      <th>label</th>\n",
       "    </tr>\n",
       "  </thead>\n",
       "  <tbody>\n",
       "    <tr>\n",
       "      <th>0</th>\n",
       "      <td>/home/staff/xin/Downloads/newMRI/ADtrain/AD/157.nii.gz</td>\n",
       "      <td>AD</td>\n",
       "    </tr>\n",
       "    <tr>\n",
       "      <th>1</th>\n",
       "      <td>/home/staff/xin/Downloads/newMRI/ADtrain/AD/382.nii.gz</td>\n",
       "      <td>AD</td>\n",
       "    </tr>\n",
       "    <tr>\n",
       "      <th>2</th>\n",
       "      <td>/home/staff/xin/Downloads/newMRI/ADtrain/AD/309.nii.gz</td>\n",
       "      <td>AD</td>\n",
       "    </tr>\n",
       "    <tr>\n",
       "      <th>3</th>\n",
       "      <td>/home/staff/xin/Downloads/newMRI/ADtrain/AD/014_S_4615.nii.gz</td>\n",
       "      <td>AD</td>\n",
       "    </tr>\n",
       "    <tr>\n",
       "      <th>4</th>\n",
       "      <td>/home/staff/xin/Downloads/newMRI/ADtrain/AD/285.nii.gz</td>\n",
       "      <td>AD</td>\n",
       "    </tr>\n",
       "  </tbody>\n",
       "</table>\n",
       "</div>"
      ],
      "text/plain": [
       "                                                            name label\n",
       "0         /home/staff/xin/Downloads/newMRI/ADtrain/AD/157.nii.gz    AD\n",
       "1         /home/staff/xin/Downloads/newMRI/ADtrain/AD/382.nii.gz    AD\n",
       "2         /home/staff/xin/Downloads/newMRI/ADtrain/AD/309.nii.gz    AD\n",
       "3  /home/staff/xin/Downloads/newMRI/ADtrain/AD/014_S_4615.nii.gz    AD\n",
       "4         /home/staff/xin/Downloads/newMRI/ADtrain/AD/285.nii.gz    AD"
      ]
     },
     "execution_count": null,
     "metadata": {},
     "output_type": "execute_result"
    }
   ],
   "source": [
    "df.head()"
   ]
  },
  {
   "cell_type": "code",
   "execution_count": null,
   "id": "innovative-correspondence",
   "metadata": {},
   "outputs": [],
   "source": [
    "temp1=open_npy(df.iat[0,0])\n",
    "temp2=open_npy(df.iat[1,0])"
   ]
  },
  {
   "cell_type": "code",
   "execution_count": null,
   "id": "baking-wilson",
   "metadata": {},
   "outputs": [
    {
     "data": {
      "text/plain": [
       "<All keys matched successfully>"
      ]
     },
     "execution_count": null,
     "metadata": {},
     "output_type": "execute_result"
    }
   ],
   "source": [
    "encoder=resnet10(shortcut_type='B')\n",
    "encoder=nn.DataParallel(encoder)\n",
    "encoder=nn.Sequential(*list(encoder.module.children()))\n",
    "head=nn.Sequential(nn.AdaptiveMaxPool3d(1), Flatten(), nn.Linear(512, 2))\n",
    "model=nn.Sequential(encoder,head)\n",
    "model.load_state_dict(torch.load('./models/medres10max.pth'))"
   ]
  },
  {
   "cell_type": "code",
   "execution_count": null,
   "id": "authorized-scoop",
   "metadata": {},
   "outputs": [
    {
     "data": {
      "text/plain": [
       "Sequential(\n",
       "  (0): Conv3d(1, 64, kernel_size=(7, 7, 7), stride=(2, 2, 2), padding=(3, 3, 3), bias=False)\n",
       "  (1): BatchNorm3d(64, eps=1e-05, momentum=0.1, affine=True, track_running_stats=True)\n",
       "  (2): ReLU(inplace=True)\n",
       "  (3): MaxPool3d(kernel_size=(3, 3, 3), stride=2, padding=1, dilation=1, ceil_mode=False)\n",
       "  (4): Sequential(\n",
       "    (0): BasicBlock(\n",
       "      (conv1): Conv3d(64, 64, kernel_size=(3, 3, 3), stride=(1, 1, 1), padding=(1, 1, 1), bias=False)\n",
       "      (bn1): BatchNorm3d(64, eps=1e-05, momentum=0.1, affine=True, track_running_stats=True)\n",
       "      (relu): ReLU(inplace=True)\n",
       "      (conv2): Conv3d(64, 64, kernel_size=(3, 3, 3), stride=(1, 1, 1), padding=(1, 1, 1), bias=False)\n",
       "      (bn2): BatchNorm3d(64, eps=1e-05, momentum=0.1, affine=True, track_running_stats=True)\n",
       "    )\n",
       "  )\n",
       ")"
      ]
     },
     "execution_count": null,
     "metadata": {},
     "output_type": "execute_result"
    }
   ],
   "source": [
    "model[0][:5]"
   ]
  },
  {
   "cell_type": "code",
   "execution_count": null,
   "id": "respected-prompt",
   "metadata": {},
   "outputs": [],
   "source": [
    "# proj = nn.Conv3d(1,1, kernel_size=25, stride=25)\n",
    "proj=model[0][:5]"
   ]
  },
  {
   "cell_type": "code",
   "execution_count": null,
   "id": "abandoned-packet",
   "metadata": {},
   "outputs": [
    {
     "name": "stderr",
     "output_type": "stream",
     "text": [
      "100%|██████████| 478/478 [10:50<00:00,  1.36s/it]\n"
     ]
    }
   ],
   "source": [
    "result=None\n",
    "for name in tqdm.tqdm(df[df.label=='AD'].name):\n",
    "    temp=open_npy(name)\n",
    "    with torch.no_grad():\n",
    "        re=proj(temp.unsqueeze(0))\n",
    "    if result==None:\n",
    "        result=re[0]\n",
    "    else:\n",
    "        result=torch.cat((result,re[0]))\n",
    "        \n",
    "\n",
    "    "
   ]
  },
  {
   "cell_type": "code",
   "execution_count": null,
   "id": "pretty-retention",
   "metadata": {},
   "outputs": [
    {
     "name": "stderr",
     "output_type": "stream",
     "text": [
      "  9%|▉         | 55/596 [00:42<06:58,  1.29it/s]\n"
     ]
    },
    {
     "ename": "KeyboardInterrupt",
     "evalue": "",
     "output_type": "error",
     "traceback": [
      "\u001b[0;31m---------------------------------------------------------------------------\u001b[0m",
      "\u001b[0;31mKeyboardInterrupt\u001b[0m                         Traceback (most recent call last)",
      "\u001b[0;32m<ipython-input-18-f9040f106c72>\u001b[0m in \u001b[0;36m<module>\u001b[0;34m\u001b[0m\n\u001b[1;32m      1\u001b[0m \u001b[0mresult2\u001b[0m\u001b[0;34m=\u001b[0m\u001b[0;32mNone\u001b[0m\u001b[0;34m\u001b[0m\u001b[0;34m\u001b[0m\u001b[0m\n\u001b[1;32m      2\u001b[0m \u001b[0;32mfor\u001b[0m \u001b[0mname\u001b[0m \u001b[0;32min\u001b[0m \u001b[0mtqdm\u001b[0m\u001b[0;34m.\u001b[0m\u001b[0mtqdm\u001b[0m\u001b[0;34m(\u001b[0m\u001b[0mdf\u001b[0m\u001b[0;34m[\u001b[0m\u001b[0mdf\u001b[0m\u001b[0;34m.\u001b[0m\u001b[0mlabel\u001b[0m\u001b[0;34m==\u001b[0m\u001b[0;34m'NC'\u001b[0m\u001b[0;34m]\u001b[0m\u001b[0;34m.\u001b[0m\u001b[0mname\u001b[0m\u001b[0;34m)\u001b[0m\u001b[0;34m:\u001b[0m\u001b[0;34m\u001b[0m\u001b[0;34m\u001b[0m\u001b[0m\n\u001b[0;32m----> 3\u001b[0;31m     \u001b[0mtemp\u001b[0m\u001b[0;34m=\u001b[0m\u001b[0mopen_npy\u001b[0m\u001b[0;34m(\u001b[0m\u001b[0mname\u001b[0m\u001b[0;34m)\u001b[0m\u001b[0;34m\u001b[0m\u001b[0;34m\u001b[0m\u001b[0m\n\u001b[0m\u001b[1;32m      4\u001b[0m     \u001b[0;32mwith\u001b[0m \u001b[0mtorch\u001b[0m\u001b[0;34m.\u001b[0m\u001b[0mno_grad\u001b[0m\u001b[0;34m(\u001b[0m\u001b[0;34m)\u001b[0m\u001b[0;34m:\u001b[0m\u001b[0;34m\u001b[0m\u001b[0;34m\u001b[0m\u001b[0m\n\u001b[1;32m      5\u001b[0m         \u001b[0mre\u001b[0m\u001b[0;34m=\u001b[0m\u001b[0mproj\u001b[0m\u001b[0;34m(\u001b[0m\u001b[0mtemp\u001b[0m\u001b[0;34m.\u001b[0m\u001b[0munsqueeze\u001b[0m\u001b[0;34m(\u001b[0m\u001b[0;36m0\u001b[0m\u001b[0;34m)\u001b[0m\u001b[0;34m)\u001b[0m\u001b[0;34m\u001b[0m\u001b[0;34m\u001b[0m\u001b[0m\n",
      "\u001b[0;32m~/Documents/fastai2/SMRIEFF3D/EFF3D/MRI.py\u001b[0m in \u001b[0;36mopen_npy\u001b[0;34m(fn, cls)\u001b[0m\n\u001b[1;32m     16\u001b[0m     \u001b[0mim\u001b[0m\u001b[0;34m=\u001b[0m\u001b[0mim\u001b[0m\u001b[0;34m/\u001b[0m\u001b[0;36m1000.0\u001b[0m\u001b[0;34m\u001b[0m\u001b[0;34m\u001b[0m\u001b[0m\n\u001b[1;32m     17\u001b[0m     \u001b[0mim\u001b[0m\u001b[0;34m[\u001b[0m\u001b[0mim\u001b[0m\u001b[0;34m>\u001b[0m\u001b[0;36m1\u001b[0m\u001b[0;34m]\u001b[0m\u001b[0;34m=\u001b[0m\u001b[0;36m1\u001b[0m\u001b[0;34m\u001b[0m\u001b[0;34m\u001b[0m\u001b[0m\n\u001b[0;32m---> 18\u001b[0;31m     \u001b[0mim\u001b[0m\u001b[0;34m[\u001b[0m\u001b[0mnp\u001b[0m\u001b[0;34m.\u001b[0m\u001b[0mnonzero\u001b[0m\u001b[0;34m(\u001b[0m\u001b[0mim\u001b[0m\u001b[0;34m)\u001b[0m\u001b[0;34m]\u001b[0m\u001b[0;34m=\u001b[0m\u001b[0;34m(\u001b[0m\u001b[0mim\u001b[0m\u001b[0;34m[\u001b[0m\u001b[0mnp\u001b[0m\u001b[0;34m.\u001b[0m\u001b[0mnonzero\u001b[0m\u001b[0;34m(\u001b[0m\u001b[0mim\u001b[0m\u001b[0;34m)\u001b[0m\u001b[0;34m]\u001b[0m\u001b[0;34m-\u001b[0m\u001b[0;36m0.288\u001b[0m\u001b[0;34m)\u001b[0m\u001b[0;34m/\u001b[0m\u001b[0;36m0.1\u001b[0m\u001b[0;34m\u001b[0m\u001b[0;34m\u001b[0m\u001b[0m\n\u001b[0m\u001b[1;32m     19\u001b[0m \u001b[0;31m#     I = sitk.ReadImage(str(fn))\u001b[0m\u001b[0;34m\u001b[0m\u001b[0;34m\u001b[0m\u001b[0;34m\u001b[0m\u001b[0m\n\u001b[1;32m     20\u001b[0m \u001b[0;31m#     im = np.array(sitk.GetArrayFromImage(I))\u001b[0m\u001b[0;34m\u001b[0m\u001b[0;34m\u001b[0m\u001b[0;34m\u001b[0m\u001b[0m\n",
      "\u001b[0;32m<__array_function__ internals>\u001b[0m in \u001b[0;36mnonzero\u001b[0;34m(*args, **kwargs)\u001b[0m\n",
      "\u001b[0;32m~/miniconda3/envs/fastai/lib/python3.8/site-packages/numpy/core/fromnumeric.py\u001b[0m in \u001b[0;36mnonzero\u001b[0;34m(a)\u001b[0m\n\u001b[1;32m   1906\u001b[0m \u001b[0;34m\u001b[0m\u001b[0m\n\u001b[1;32m   1907\u001b[0m     \"\"\"\n\u001b[0;32m-> 1908\u001b[0;31m     \u001b[0;32mreturn\u001b[0m \u001b[0m_wrapfunc\u001b[0m\u001b[0;34m(\u001b[0m\u001b[0ma\u001b[0m\u001b[0;34m,\u001b[0m \u001b[0;34m'nonzero'\u001b[0m\u001b[0;34m)\u001b[0m\u001b[0;34m\u001b[0m\u001b[0;34m\u001b[0m\u001b[0m\n\u001b[0m\u001b[1;32m   1909\u001b[0m \u001b[0;34m\u001b[0m\u001b[0m\n\u001b[1;32m   1910\u001b[0m \u001b[0;34m\u001b[0m\u001b[0m\n",
      "\u001b[0;32m~/miniconda3/envs/fastai/lib/python3.8/site-packages/numpy/core/fromnumeric.py\u001b[0m in \u001b[0;36m_wrapfunc\u001b[0;34m(obj, method, *args, **kwds)\u001b[0m\n\u001b[1;32m     56\u001b[0m \u001b[0;34m\u001b[0m\u001b[0m\n\u001b[1;32m     57\u001b[0m     \u001b[0;32mtry\u001b[0m\u001b[0;34m:\u001b[0m\u001b[0;34m\u001b[0m\u001b[0;34m\u001b[0m\u001b[0m\n\u001b[0;32m---> 58\u001b[0;31m         \u001b[0;32mreturn\u001b[0m \u001b[0mbound\u001b[0m\u001b[0;34m(\u001b[0m\u001b[0;34m*\u001b[0m\u001b[0margs\u001b[0m\u001b[0;34m,\u001b[0m \u001b[0;34m**\u001b[0m\u001b[0mkwds\u001b[0m\u001b[0;34m)\u001b[0m\u001b[0;34m\u001b[0m\u001b[0;34m\u001b[0m\u001b[0m\n\u001b[0m\u001b[1;32m     59\u001b[0m     \u001b[0;32mexcept\u001b[0m \u001b[0mTypeError\u001b[0m\u001b[0;34m:\u001b[0m\u001b[0;34m\u001b[0m\u001b[0;34m\u001b[0m\u001b[0m\n\u001b[1;32m     60\u001b[0m         \u001b[0;31m# A TypeError occurs if the object does have such a method in its\u001b[0m\u001b[0;34m\u001b[0m\u001b[0;34m\u001b[0m\u001b[0;34m\u001b[0m\u001b[0m\n",
      "\u001b[0;31mKeyboardInterrupt\u001b[0m: "
     ]
    }
   ],
   "source": [
    "result2=None\n",
    "for name in tqdm.tqdm(df[df.label=='NC'].name):\n",
    "    temp=open_npy(name)\n",
    "    with torch.no_grad():\n",
    "        re=proj(temp.unsqueeze(0))\n",
    "    if result2==None:\n",
    "        result2=re[0]\n",
    "    else:\n",
    "        result2=torch.cat((result2,re[0]))"
   ]
  },
  {
   "cell_type": "code",
   "execution_count": null,
   "id": "equivalent-attitude",
   "metadata": {},
   "outputs": [
    {
     "data": {
      "text/plain": [
       "torch.Size([30592, 46, 55, 46])"
      ]
     },
     "execution_count": null,
     "metadata": {},
     "output_type": "execute_result"
    }
   ],
   "source": [
    "result.shape"
   ]
  },
  {
   "cell_type": "code",
   "execution_count": null,
   "id": "trying-antigua",
   "metadata": {},
   "outputs": [],
   "source": [
    "p=[]\n",
    "for i in range(392):\n",
    "    p.append(stats.ttest_ind(result.flatten(1)[:,i],result2.flatten(1)[:478,i])[1])"
   ]
  },
  {
   "cell_type": "code",
   "execution_count": null,
   "id": "noted-knowing",
   "metadata": {},
   "outputs": [],
   "source": [
    "p=np.asarray(p)"
   ]
  },
  {
   "cell_type": "code",
   "execution_count": null,
   "id": "unusual-brisbane",
   "metadata": {},
   "outputs": [],
   "source": [
    "sort=np.argsort(p)"
   ]
  },
  {
   "cell_type": "code",
   "execution_count": null,
   "id": "varying-ontario",
   "metadata": {},
   "outputs": [
    {
     "data": {
      "text/plain": [
       "(392,)"
      ]
     },
     "execution_count": null,
     "metadata": {},
     "output_type": "execute_result"
    }
   ],
   "source": [
    "p.shape"
   ]
  },
  {
   "cell_type": "code",
   "execution_count": null,
   "id": "relative-electron",
   "metadata": {},
   "outputs": [
    {
     "data": {
      "text/plain": [
       "array([1.00000000e+00, 6.22274504e-03, 1.00000000e+00, 1.57079925e-01,\n",
       "       2.37987523e-01, 4.97634674e-01, 6.54055246e-01, 1.12507421e-01,\n",
       "       1.00000000e+00, 2.86824761e-04, 3.06876952e-03, 9.11736111e-01,\n",
       "       2.03090754e-02, 4.30938044e-01, 2.26946894e-01, 2.61225460e-05,\n",
       "       2.23839943e-06, 1.27668512e-03, 9.95024069e-01, 5.07022796e-01,\n",
       "       4.59688952e-02, 4.66376865e-01, 8.43902893e-01, 1.00000000e+00,\n",
       "       1.22606488e-01, 1.00000000e+00, 7.85558335e-04, 1.40421005e-03,\n",
       "       5.92569504e-01, 5.99972592e-02, 6.45509286e-01, 7.67711514e-02,\n",
       "       1.00000000e+00, 8.50220083e-01, 1.00000000e+00, 1.00000000e+00,\n",
       "       1.00000000e+00, 1.00000000e+00, 1.00000000e+00, 1.00000000e+00,\n",
       "       1.00000000e+00, 1.00000000e+00, 1.95577615e-01, 1.48650707e-01,\n",
       "       9.22443337e-01, 3.61899575e-01, 1.40897967e-01, 1.00000000e+00,\n",
       "       1.00000000e+00, 1.49845638e-01, 6.19826304e-02, 1.46206717e-01,\n",
       "       3.43834011e-01, 1.46937040e-02, 2.74382506e-01, 1.00000000e+00,\n",
       "       1.54591658e-01, 1.87157521e-01, 2.24452515e-02, 4.66851190e-03])"
      ]
     },
     "execution_count": null,
     "metadata": {},
     "output_type": "execute_result"
    }
   ],
   "source": [
    "p[sort<60]"
   ]
  },
  {
   "cell_type": "code",
   "execution_count": null,
   "id": "indirect-explosion",
   "metadata": {},
   "outputs": [],
   "source": [
    "np.save('sort.npz',sort)"
   ]
  },
  {
   "cell_type": "code",
   "execution_count": null,
   "id": "destroyed-training",
   "metadata": {},
   "outputs": [
    {
     "data": {
      "text/plain": [
       "torch.Size([1, 181, 217, 181])"
      ]
     },
     "execution_count": null,
     "metadata": {},
     "output_type": "execute_result"
    }
   ],
   "source": [
    "temp.shape"
   ]
  },
  {
   "cell_type": "code",
   "execution_count": null,
   "id": "final-newport",
   "metadata": {},
   "outputs": [
    {
     "data": {
      "text/plain": [
       "0.004668511904601649"
      ]
     },
     "execution_count": null,
     "metadata": {},
     "output_type": "execute_result"
    }
   ],
   "source": [
    "p[360]\n"
   ]
  },
  {
   "cell_type": "code",
   "execution_count": null,
   "id": "exterior-oakland",
   "metadata": {},
   "outputs": [],
   "source": []
  }
 ],
 "metadata": {
  "kernelspec": {
   "display_name": "Python [conda env:fastai]",
   "language": "python",
   "name": "conda-env-fastai-py"
  }
 },
 "nbformat": 4,
 "nbformat_minor": 5
}
