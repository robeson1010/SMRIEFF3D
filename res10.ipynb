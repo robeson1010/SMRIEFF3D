{
 "cells": [
  {
   "cell_type": "code",
   "execution_count": null,
   "id": "eligible-cleaning",
   "metadata": {},
   "outputs": [],
   "source": [
    "%load_ext autoreload\n",
    "%autoreload 2\n",
    "%matplotlib inline"
   ]
  },
  {
   "cell_type": "code",
   "execution_count": null,
   "id": "informed-crisis",
   "metadata": {},
   "outputs": [],
   "source": [
    "import timm\n",
    "from EFF3D.MRI import *\n",
    "from fastai.vision.all import *\n",
    "from EFF3D.res import resnet10\n",
    "import torch.nn as nn"
   ]
  },
  {
   "cell_type": "code",
   "execution_count": null,
   "id": "hollow-least",
   "metadata": {},
   "outputs": [],
   "source": [
    "df=pd.read_csv('../nonorm/ADNCold.csv')\n",
    "# path=Path('/home/staff/xin/Downloads/newMRI/ADtrain')"
   ]
  },
  {
   "cell_type": "code",
   "execution_count": null,
   "id": "integral-brown",
   "metadata": {},
   "outputs": [],
   "source": [
    "db = DataBlock(blocks=(TransformBlock(type_tfms=partial(MriTensorImage.create)),CategoryBlock),\n",
    "               get_x=ColReader('name'),\n",
    "               get_y=ColReader('label'),\n",
    "               splitter=RandomSplitter(valid_pct=0.2,seed=2),\n",
    "              )\n",
    "\n",
    "dls=db.dataloaders(source=df, bs=8, num_workers=4)"
   ]
  },
  {
   "cell_type": "code",
   "execution_count": null,
   "id": "qualified-expert",
   "metadata": {},
   "outputs": [
    {
     "name": "stderr",
     "output_type": "stream",
     "text": [
      "/home/staff/xin/Documents/fastai2/SMRIEFF3D/EFF3D/res.py:174: UserWarning: nn.init.kaiming_normal is now deprecated in favor of nn.init.kaiming_normal_.\n",
      "  m.weight = nn.init.kaiming_normal(m.weight, mode='fan_out')\n"
     ]
    }
   ],
   "source": [
    "encoder=resnet10(shortcut_type='B')\n",
    "encoder=nn.DataParallel(encoder)\n",
    "weight=torch.load('../nonorm/models/resnet_10_23dataset.pth')\n",
    "encoder.load_state_dict(weight['state_dict'],strict=False)\n",
    "encoder=nn.Sequential(*list(encoder.module.children()))\n",
    "head=nn.Sequential(nn.AdaptiveMaxPool3d(1), Flatten(), nn.Linear(512, 2))\n",
    "apply_init(head)\n",
    "model=nn.Sequential(encoder,head)"
   ]
  },
  {
   "cell_type": "code",
   "execution_count": null,
   "id": "assisted-modification",
   "metadata": {},
   "outputs": [],
   "source": [
    "learn=Learner(dls,model=model,loss_func=LabelSmoothingCrossEntropy(),metrics=accuracy).to_non_native_fp16()"
   ]
  },
  {
   "cell_type": "code",
   "execution_count": null,
   "id": "conceptual-whale",
   "metadata": {},
   "outputs": [
    {
     "data": {
      "text/html": [
       "\n",
       "    <div>\n",
       "        <style>\n",
       "            /* Turns off some styling */\n",
       "            progress {\n",
       "                /* gets rid of default border in Firefox and Opera. */\n",
       "                border: none;\n",
       "                /* Needs to be in here for Safari polyfill so background images work as expected. */\n",
       "                background-size: auto;\n",
       "            }\n",
       "            .progress-bar-interrupted, .progress-bar-interrupted::-webkit-progress-bar {\n",
       "                background: #F44336;\n",
       "            }\n",
       "        </style>\n",
       "      <progress value='2' class='' max='200' style='width:300px; height:20px; vertical-align: middle;'></progress>\n",
       "      1.00% [2/200 15:42<25:54:25]\n",
       "    </div>\n",
       "    \n",
       "<table border=\"1\" class=\"dataframe\">\n",
       "  <thead>\n",
       "    <tr style=\"text-align: left;\">\n",
       "      <th>epoch</th>\n",
       "      <th>train_loss</th>\n",
       "      <th>valid_loss</th>\n",
       "      <th>accuracy</th>\n",
       "      <th>time</th>\n",
       "    </tr>\n",
       "  </thead>\n",
       "  <tbody>\n",
       "    <tr>\n",
       "      <td>0</td>\n",
       "      <td>2.208840</td>\n",
       "      <td>0.992757</td>\n",
       "      <td>0.556075</td>\n",
       "      <td>07:51</td>\n",
       "    </tr>\n",
       "    <tr>\n",
       "      <td>1</td>\n",
       "      <td>0.922655</td>\n",
       "      <td>0.741545</td>\n",
       "      <td>0.570093</td>\n",
       "      <td>07:50</td>\n",
       "    </tr>\n",
       "  </tbody>\n",
       "</table><p>\n",
       "\n",
       "    <div>\n",
       "        <style>\n",
       "            /* Turns off some styling */\n",
       "            progress {\n",
       "                /* gets rid of default border in Firefox and Opera. */\n",
       "                border: none;\n",
       "                /* Needs to be in here for Safari polyfill so background images work as expected. */\n",
       "                background-size: auto;\n",
       "            }\n",
       "            .progress-bar-interrupted, .progress-bar-interrupted::-webkit-progress-bar {\n",
       "                background: #F44336;\n",
       "            }\n",
       "        </style>\n",
       "      <progress value='6' class='' max='107' style='width:300px; height:20px; vertical-align: middle;'></progress>\n",
       "      5.61% [6/107 00:29<08:09 0.9007]\n",
       "    </div>\n",
       "    "
      ],
      "text/plain": [
       "<IPython.core.display.HTML object>"
      ]
     },
     "metadata": {},
     "output_type": "display_data"
    },
    {
     "name": "stdout",
     "output_type": "stream",
     "text": [
      "Better model found at epoch 0 with accuracy value: 0.5560747385025024.\n",
      "Better model found at epoch 1 with accuracy value: 0.5700934529304504.\n"
     ]
    }
   ],
   "source": [
    "learn.fit_one_cycle(200,1e-4,cbs=[CSVLogger(fname='medres10max.csv',append=False),SaveModelCallback(monitor='accuracy',fname='medres10max')])"
   ]
  },
  {
   "cell_type": "code",
   "execution_count": null,
   "id": "about-carrier",
   "metadata": {},
   "outputs": [],
   "source": []
  }
 ],
 "metadata": {
  "kernelspec": {
   "display_name": "Python [conda env:fastai]",
   "language": "python",
   "name": "conda-env-fastai-py"
  }
 },
 "nbformat": 4,
 "nbformat_minor": 5
}
